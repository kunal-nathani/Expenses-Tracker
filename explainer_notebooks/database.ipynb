{
 "cells": [
  {
   "cell_type": "code",
   "execution_count": 17,
   "id": "30413aa4",
   "metadata": {},
   "outputs": [],
   "source": [
    "from deta import Deta  # pip install deta"
   ]
  },
  {
   "cell_type": "code",
   "execution_count": 22,
   "id": "bdace43d",
   "metadata": {},
   "outputs": [],
   "source": [
    "DETA_KEY = \"d0azw9x2j4x_ZTCJb7XGKsFX7txFH9WQDHjTquAh4JNe\"\n",
    "\n",
    "# Initialize with a project key\n",
    "deta = Deta(DETA_KEY)\n",
    "\n",
    "# This is how to create/connect a database\n",
    "db = deta.Base(\"monthly_reports\")"
   ]
  },
  {
   "cell_type": "code",
   "execution_count": 23,
   "id": "d65bd157",
   "metadata": {},
   "outputs": [],
   "source": [
    "def insert_period(period, incomes, expenses, comment):\n",
    "    \"\"\"Returns the user on a successful user creation, otherwise raises and error\"\"\"\n",
    "    return db.put({\"key\": period, \"incomes\": incomes, \"expenses\": expenses, \"comment\": comment})\n",
    "\n",
    "\n",
    "def fetch_all_periods():\n",
    "    \"\"\"Returns a dict of all periods\"\"\"\n",
    "    res = db.fetch()\n",
    "    return res.items\n",
    "\n",
    "\n",
    "def get_period(period):\n",
    "    \"\"\"If not found, the function will return None\"\"\"\n",
    "    return db.get(period)"
   ]
  },
  {
   "cell_type": "code",
   "execution_count": 24,
   "id": "b532ec9b",
   "metadata": {},
   "outputs": [],
   "source": [
    "# Example Data\n",
    "period = \"2022_April\"\n",
    "comment = \"Some comment\"\n",
    "incomes = {'Salary': 1500, 'Blog': 50, 'Other Income': 10}\n",
    "expenses = {'Rent': 600, 'Utilities': 200, 'Groceries': 300,\n",
    "            'Car': 100, 'Other Expenses': 50, 'Saving': 10}"
   ]
  },
  {
   "cell_type": "code",
   "execution_count": 25,
   "id": "2a890947",
   "metadata": {},
   "outputs": [
    {
     "data": {
      "text/plain": [
       "{'comment': 'Some comment',\n",
       " 'expenses': {'Car': 100,\n",
       "  'Groceries': 300,\n",
       "  'Other Expenses': 50,\n",
       "  'Rent': 600,\n",
       "  'Saving': 10,\n",
       "  'Utilities': 200},\n",
       " 'incomes': {'Blog': 50, 'Other Income': 10, 'Salary': 1500},\n",
       " 'key': '2022_April'}"
      ]
     },
     "execution_count": 25,
     "metadata": {},
     "output_type": "execute_result"
    }
   ],
   "source": [
    "insert_period(period, incomes, expenses, comment)"
   ]
  },
  {
   "cell_type": "code",
   "execution_count": 26,
   "id": "7bc0db91",
   "metadata": {},
   "outputs": [
    {
     "data": {
      "text/plain": [
       "[{'comment': 'Some comment',\n",
       "  'expenses': {'Car': 100,\n",
       "   'Groceries': 300,\n",
       "   'Other Expenses': 50,\n",
       "   'Rent': 600,\n",
       "   'Saving': 10,\n",
       "   'Utilities': 200},\n",
       "  'incomes': {'Blog': 50, 'Other Income': 10, 'Salary': 1500},\n",
       "  'key': '2022_April'},\n",
       " {'key': 'comment'},\n",
       " {'key': 'expenses'},\n",
       " {'key': 'incomes'},\n",
       " {'key': 'period'}]"
      ]
     },
     "execution_count": 26,
     "metadata": {},
     "output_type": "execute_result"
    }
   ],
   "source": [
    "fetch_all_periods()"
   ]
  },
  {
   "cell_type": "code",
   "execution_count": 27,
   "id": "6436a6cd",
   "metadata": {},
   "outputs": [
    {
     "data": {
      "text/plain": [
       "{'comment': 'Some comment',\n",
       " 'expenses': {'Car': 100,\n",
       "  'Groceries': 300,\n",
       "  'Other Expenses': 50,\n",
       "  'Rent': 600,\n",
       "  'Saving': 10,\n",
       "  'Utilities': 200},\n",
       " 'incomes': {'Blog': 50, 'Other Income': 10, 'Salary': 1500},\n",
       " 'key': '2022_April'}"
      ]
     },
     "execution_count": 27,
     "metadata": {},
     "output_type": "execute_result"
    }
   ],
   "source": [
    "get_period(\"2022_April\")"
   ]
  },
  {
   "cell_type": "code",
   "execution_count": null,
   "id": "0d877342",
   "metadata": {},
   "outputs": [],
   "source": []
  },
  {
   "cell_type": "code",
   "execution_count": null,
   "id": "5de2ec16",
   "metadata": {},
   "outputs": [],
   "source": []
  }
 ],
 "metadata": {
  "kernelspec": {
   "display_name": "Python 3 (ipykernel)",
   "language": "python",
   "name": "python3"
  },
  "language_info": {
   "codemirror_mode": {
    "name": "ipython",
    "version": 3
   },
   "file_extension": ".py",
   "mimetype": "text/x-python",
   "name": "python",
   "nbconvert_exporter": "python",
   "pygments_lexer": "ipython3",
   "version": "3.10.9"
  }
 },
 "nbformat": 4,
 "nbformat_minor": 5
}
